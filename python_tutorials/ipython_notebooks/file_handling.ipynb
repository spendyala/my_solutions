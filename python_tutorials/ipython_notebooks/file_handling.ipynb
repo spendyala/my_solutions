{
 "cells": [
  {
   "cell_type": "code",
   "execution_count": null,
   "metadata": {},
   "outputs": [],
   "source": [
    "file_descriptor = open('smallwikipedia.csv', 'r')\n",
    "file_data = file_descriptor.read()\n",
    "file_descriptor.close()"
   ]
  },
  {
   "cell_type": "code",
   "execution_count": null,
   "metadata": {},
   "outputs": [],
   "source": [
    "# print(file_data)"
   ]
  },
  {
   "cell_type": "code",
   "execution_count": null,
   "metadata": {},
   "outputs": [],
   "source": [
    "file_descriptor = open('smallwikipedia.csv', 'r')\n",
    "while True:\n",
    "    file_data_line = file_descriptor.readline()\n",
    "    if file_data_line:\n",
    "        print(file_data_line)\n",
    "    else:\n",
    "        break\n",
    "file_descriptor.close()"
   ]
  },
  {
   "cell_type": "code",
   "execution_count": null,
   "metadata": {},
   "outputs": [],
   "source": [
    "file_descriptor = open('smallwikipedia.csv', 'r')\n",
    "file_data_lines = file_descriptor.readlines()\n",
    "print(file_data_lines)\n",
    "file_descriptor.close()"
   ]
  },
  {
   "cell_type": "code",
   "execution_count": null,
   "metadata": {},
   "outputs": [],
   "source": [
    "with open('/Users/vpendyala/Downloads/smallwikipedia.csv', 'r') as file_descriptor:\n",
    "    file_data_lines = file_descriptor.readlines()\n",
    "    for each_line in file_data_lines:\n",
    "        print(each_line, end='')\n",
    "        each_list = each_line[:-1].split(';')\n",
    "        print(each_list)\n"
   ]
  },
  {
   "cell_type": "code",
   "execution_count": null,
   "metadata": {},
   "outputs": [],
   "source": [
    "a = 'Hello World\\n'"
   ]
  },
  {
   "cell_type": "code",
   "execution_count": null,
   "metadata": {},
   "outputs": [],
   "source": [
    "a"
   ]
  },
  {
   "cell_type": "code",
   "execution_count": null,
   "metadata": {},
   "outputs": [],
   "source": [
    "a[:-1]"
   ]
  },
  {
   "cell_type": "code",
   "execution_count": null,
   "metadata": {},
   "outputs": [],
   "source": [
    "with open('test_data.csv', 'w') as file_descriptor:\n",
    "    for num in range(0, 10):\n",
    "        file_descriptor.write('%s,%s,\"%s\"\\n' % (num, bin(num), 'Hai, srinu'))"
   ]
  },
  {
   "cell_type": "code",
   "execution_count": null,
   "metadata": {},
   "outputs": [],
   "source": [
    "bin(10)"
   ]
  },
  {
   "cell_type": "code",
   "execution_count": 1,
   "metadata": {},
   "outputs": [],
   "source": [
    "import csv\n",
    "with open('sample_data.csv', 'w') as sample_csv:\n",
    "    csv_obj = csv.writer(sample_csv, delimiter=',')\n",
    "    for num in range(0, 10):\n",
    "        csv_obj.writerow([num, bin(num), 'Hai,\\t srinu'])"
   ]
  },
  {
   "cell_type": "code",
   "execution_count": null,
   "metadata": {},
   "outputs": [],
   "source": [
    "import csv \n",
    "with open('smallwikipedia.csv', 'r') as smallwikipedia:\n",
    "    csv_object = csv.reader(smallwikipedia, delimiter=';')\n",
    "    for each in csv_object:\n",
    "        print(each)"
   ]
  },
  {
   "cell_type": "code",
   "execution_count": null,
   "metadata": {},
   "outputs": [],
   "source": [
    "import arrow"
   ]
  },
  {
   "cell_type": "code",
   "execution_count": null,
   "metadata": {},
   "outputs": [],
   "source": [
    "print(arrow.utcnow())"
   ]
  },
  {
   "cell_type": "code",
   "execution_count": null,
   "metadata": {},
   "outputs": [],
   "source": [
    "arrow.get('15/04/2005 07:33', 'DD/MM/YYYY HH:mm')"
   ]
  },
  {
   "cell_type": "code",
   "execution_count": null,
   "metadata": {},
   "outputs": [],
   "source": [
    "import datetime"
   ]
  },
  {
   "cell_type": "code",
   "execution_count": null,
   "metadata": {},
   "outputs": [],
   "source": [
    "datetime.datetime.now()"
   ]
  },
  {
   "cell_type": "code",
   "execution_count": null,
   "metadata": {},
   "outputs": [],
   "source": [
    "datetime.datetime.utcnow()"
   ]
  },
  {
   "cell_type": "code",
   "execution_count": null,
   "metadata": {},
   "outputs": [],
   "source": [
    "datetime_obj = datetime.datetime.utcnow()"
   ]
  },
  {
   "cell_type": "code",
   "execution_count": null,
   "metadata": {},
   "outputs": [],
   "source": [
    "print(datetime_obj)"
   ]
  },
  {
   "cell_type": "code",
   "execution_count": null,
   "metadata": {},
   "outputs": [],
   "source": [
    "datetime_obj.strftime('%d/%m/%Y %H:%M')"
   ]
  },
  {
   "cell_type": "code",
   "execution_count": 18,
   "metadata": {
    "scrolled": false
   },
   "outputs": [
    {
     "name": "stdout",
     "output_type": "stream",
     "text": [
      "OrderedDict([('User', '194.210.1.51'), ('Name', 'Bonnet_phrygien'), ('Date', '19/10/2004 11:02'), ('changes', '163')])\n",
      "OrderedDict([('User', 'Ske'), ('Name', 'Bonnet_phrygien'), ('Date', '19/10/2004 12:11'), ('changes', '751')])\n",
      "OrderedDict([('User', 'Ske'), ('Name', 'Bonnet_phrygien'), ('Date', '19/10/2004 12:12'), ('changes', '17')])\n",
      "OrderedDict([('User', '83.27.202.42'), ('Name', 'Bonnet_phrygien'), ('Date', '21/10/2004 10:39'), ('changes', '42')])\n",
      "OrderedDict([('User', 'Med'), ('Name', 'Bonnet_phrygien'), ('Date', '29/10/2004 11:06'), ('changes', '24')])\n",
      "OrderedDict([('User', 'Sam Hocevar'), ('Name', 'Bonnet_phrygien'), ('Date', '28/11/2004 02:42'), ('changes', '4')])\n",
      "OrderedDict([('User', 'Sfrancois'), ('Name', 'Bonnet_phrygien'), ('Date', '16/12/2004 11:26'), ('changes', '35')])\n",
      "OrderedDict([('User', 'Kelson'), ('Name', 'Bonnet_phrygien'), ('Date', '25/12/2004 09:32'), ('changes', '15')])\n",
      "OrderedDict([('User', 'Durandal'), ('Name', 'Bonnet_phrygien'), ('Date', '29/01/2005 07:36'), ('changes', '4')])\n",
      "OrderedDict([('User', 'Mued'), ('Name', 'Bonnet_phrygien'), ('Date', '03/03/2005 03:49'), ('changes', '243')])\n",
      "OrderedDict([('User', 'ThierryVignaud'), ('Name', 'Bonnet_phrygien'), ('Date', '15/04/2005 07:33'), ('changes', '289')])\n",
      "OrderedDict([('User', 'Lmaltier'), ('Name', 'Bonnet_phrygien'), ('Date', '21/06/2005 08:31'), ('changes', '2')])\n",
      "OrderedDict([('User', 'Badmood'), ('Name', 'Bonnet_phrygien'), ('Date', '06/10/2005 10:42'), ('changes', '259')])\n",
      "OrderedDict([('User', 'RobotQuistnix'), ('Name', 'Bonnet_phrygien'), ('Date', '10/12/2005 02:00'), ('changes', '20')])\n",
      "OrderedDict([('User', 'Marsyas'), ('Name', 'Bonnet_phrygien'), ('Date', '14/01/2006 02:05'), ('changes', '324')])\n",
      "OrderedDict([('User', '82.124.191.160'), ('Name', 'Bonnet_phrygien'), ('Date', '19/03/2006 06:50'), ('changes', '118')])\n",
      "OrderedDict([('User', 'Urban'), ('Name', 'Bonnet_phrygien'), ('Date', '21/03/2006 05:52'), ('changes', '51')])\n",
      "OrderedDict([('User', 'Papydenis'), ('Name', 'Bonnet_phrygien'), ('Date', '01/05/2006 12:33'), ('changes', '2')])\n",
      "OrderedDict([('User', 'Anhkhoi'), ('Name', 'Bonnet_phrygien'), ('Date', '03/06/2006 01:44'), ('changes', '284')])\n",
      "OrderedDict([('User', 'Greudin'), ('Name', 'Bonnet_phrygien'), ('Date', '02/07/2006 07:47'), ('changes', '46')])\n",
      "OrderedDict([('User', 'Gribeco'), ('Name', 'Bonnet_phrygien'), ('Date', '04/08/2006 03:57'), ('changes', '61')])\n",
      "OrderedDict([('User', '82.234.44.9'), ('Name', 'Bonnet_phrygien'), ('Date', '31/10/2006 07:25'), ('changes', '225')])\n",
      "OrderedDict([('User', 'Sand'), ('Name', 'Bonnet_phrygien'), ('Date', '22/11/2006 12:08'), ('changes', '56')])\n",
      "OrderedDict([('User', 'Sand'), ('Name', 'Bonnet_phrygien'), ('Date', '23/11/2006 09:45'), ('changes', '17')])\n",
      "OrderedDict([('User', 'Sand'), ('Name', 'Bonnet_phrygien'), ('Date', '25/11/2006 02:39'), ('changes', '16')])\n",
      "OrderedDict([('User', 'Escarbot'), ('Name', 'Bonnet_phrygien'), ('Date', '10/12/2006 07:10'), ('changes', '23')])\n",
      "OrderedDict([('User', 'Sand'), ('Name', 'Bonnet_phrygien'), ('Date', '18/12/2006 01:21'), ('changes', '88')])\n",
      "OrderedDict([('User', 'Rei-bot'), ('Name', 'Bonnet_phrygien'), ('Date', '29/12/2006 10:16'), ('changes', '16')])\n",
      "OrderedDict([('User', 'Archeos'), ('Name', 'Bonnet_phrygien'), ('Date', '12/01/2007 10:44'), ('changes', '556')])\n",
      "OrderedDict([('User', 'Archeos'), ('Name', 'Bonnet_phrygien'), ('Date', '12/01/2007 10:45'), ('changes', '10')])\n",
      "OrderedDict([('User', 'Archeos'), ('Name', 'Bonnet_phrygien'), ('Date', '13/01/2007 01:53'), ('changes', '200')])\n",
      "OrderedDict([('User', '83.156.170.20'), ('Name', 'Bonnet_phrygien'), ('Date', '21/01/2007 09:54'), ('changes', '708')])\n",
      "OrderedDict([('User', 'Laurent Nguyen'), ('Name', 'Bonnet_phrygien'), ('Date', '21/01/2007 10:04'), ('changes', '0')])\n",
      "OrderedDict([('User', 'Idioma-bot'), ('Name', 'Bonnet_phrygien'), ('Date', '10/02/2007 03:53'), ('changes', '16')])\n",
      "OrderedDict([('User', '168.226.106.121'), ('Name', 'Bonnet_phrygien'), ('Date', '01/04/2007 01:49'), ('changes', '69')])\n",
      "OrderedDict([('User', 'Sand'), ('Name', 'Bonnet_phrygien'), ('Date', '01/04/2007 05:25'), ('changes', '0')])\n",
      "OrderedDict([('User', 'Thijs!bot'), ('Name', 'Bonnet_phrygien'), ('Date', '02/04/2007 03:54'), ('changes', '34')])\n",
      "OrderedDict([('User', 'Sand'), ('Name', 'Bonnet_phrygien'), ('Date', '10/04/2007 06:44'), ('changes', '61')])\n",
      "OrderedDict([('User', 'Nono le petit robot'), ('Name', 'Bonnet_phrygien'), ('Date', '13/04/2007 01:55'), ('changes', '23')])\n",
      "OrderedDict([('User', 'Chicobot'), ('Name', 'Bonnet_phrygien'), ('Date', '28/04/2007 07:39'), ('changes', '43')])\n",
      "OrderedDict([('User', 'RobotQuistnix'), ('Name', 'Bonnet_phrygien'), ('Date', '30/04/2007 01:11'), ('changes', '23')])\n",
      "OrderedDict([('User', 'Loveless'), ('Name', 'Bonnet_phrygien'), ('Date', '06/05/2007 02:17'), ('changes', '26')])\n",
      "OrderedDict([('User', '90.0.95.190'), ('Name', 'Bonnet_phrygien'), ('Date', '09/05/2007 11:29'), ('changes', '98')])\n",
      "OrderedDict([('User', 'Louperibot'), ('Name', 'Bonnet_phrygien'), ('Date', '25/05/2007 04:17'), ('changes', '24')])\n",
      "OrderedDict([('User', 'Gene.arboit'), ('Name', 'Bonnet_phrygien'), ('Date', '12/06/2007 02:18'), ('changes', '231')])\n",
      "OrderedDict([('User', 'Gene.arboit'), ('Name', 'Bonnet_phrygien'), ('Date', '12/06/2007 02:19'), ('changes', '4')])\n",
      "OrderedDict([('User', 'Ptyx'), ('Name', 'Bonnet_phrygien'), ('Date', '18/06/2007 06:46'), ('changes', '805')])\n",
      "OrderedDict([('User', 'SieBot'), ('Name', 'Bonnet_phrygien'), ('Date', '06/07/2007 03:48'), ('changes', '19')])\n",
      "OrderedDict([('User', 'Châtillon'), ('Name', 'Bonnet_phrygien'), ('Date', '30/07/2007 05:13'), ('changes', '149')])\n",
      "OrderedDict([('User', 'Ollamh'), ('Name', 'Bonnet_phrygien'), ('Date', '04/08/2007 09:55'), ('changes', '6')])\n",
      "OrderedDict([('User', 'Erabot'), ('Name', 'Bonnet_phrygien'), ('Date', '05/08/2007 10:16'), ('changes', '23')])\n",
      "OrderedDict([('User', 'Robbot'), ('Name', 'Bonnet_phrygien'), ('Date', '18/09/2007 12:52'), ('changes', '34')])\n",
      "OrderedDict([('User', 'Sherbrooke'), ('Name', 'Bonnet_phrygien'), ('Date', '01/10/2007 04:36'), ('changes', '21')])\n",
      "OrderedDict([('User', 'Louperibot'), ('Name', 'Bonnet_phrygien'), ('Date', '20/10/2007 01:03'), ('changes', '9')])\n",
      "OrderedDict([('User', 'Zorrobot'), ('Name', 'Bonnet_phrygien'), ('Date', '11/11/2007 08:36'), ('changes', '19')])\n",
      "OrderedDict([('User', 'RobotQuistnix'), ('Name', 'Bonnet_phrygien'), ('Date', '28/12/2007 07:41'), ('changes', '20')])\n",
      "OrderedDict([('User', 'Badmood'), ('Name', 'Bonnet_phrygien'), ('Date', '03/04/2008 10:28'), ('changes', '24')])\n",
      "OrderedDict([('User', '82.124.95.71'), ('Name', 'Bonnet_phrygien'), ('Date', '15/04/2008 06:31'), ('changes', '12')])\n",
      "OrderedDict([('User', '62.203.140.192'), ('Name', 'Bonnet_phrygien'), ('Date', '24/04/2008 06:19'), ('changes', '27')])\n",
      "OrderedDict([('User', '62.203.140.192'), ('Name', 'Bonnet_phrygien'), ('Date', '24/04/2008 06:26'), ('changes', '17')])\n",
      "OrderedDict([('User', '82.251.123.34'), ('Name', 'Bonnet_phrygien'), ('Date', '25/04/2008 09:40'), ('changes', '30')])\n",
      "OrderedDict([('User', '24.202.0.195'), ('Name', 'Bonnet_phrygien'), ('Date', '15/06/2008 10:05'), ('changes', '102')])\n",
      "OrderedDict([('User', '-Strogoff-'), ('Name', 'Bonnet_phrygien'), ('Date', '22/06/2008 01:15'), ('changes', '34')])\n",
      "OrderedDict([('User', '-Strogoff-'), ('Name', 'Bonnet_phrygien'), ('Date', '22/06/2008 01:15'), ('changes', '11')])\n",
      "OrderedDict([('User', '82.225.234.108'), ('Name', 'Bonnet_phrygien'), ('Date', '30/06/2008 03:57'), ('changes', '133')])\n",
      "OrderedDict([('User', '343KKT Kintaro'), ('Name', 'Bonnet_phrygien'), ('Date', '04/07/2008 09:19'), ('changes', '4')])\n",
      "OrderedDict([('User', 'MelancholieBot'), ('Name', 'Bonnet_phrygien'), ('Date', '19/07/2008 07:47'), ('changes', '11')])\n"
     ]
    }
   ],
   "source": [
    "import csv \n",
    "with open('smallwikipedia.csv', 'r') as smallwikipedia:\n",
    "    csv_object = csv.DictReader(smallwikipedia, delimiter=';')\n",
    "    for each in csv_object:\n",
    "        if each.get('Name') == 'Bonnet_phrygien':\n",
    "            print(each)"
   ]
  },
  {
   "cell_type": "code",
   "execution_count": 19,
   "metadata": {},
   "outputs": [],
   "source": [
    "end_date = datetime.datetime.now()"
   ]
  },
  {
   "cell_type": "code",
   "execution_count": 20,
   "metadata": {},
   "outputs": [
    {
     "data": {
      "text/plain": [
       "datetime.datetime(2018, 5, 20, 23, 5, 51, 717361)"
      ]
     },
     "execution_count": 20,
     "metadata": {},
     "output_type": "execute_result"
    }
   ],
   "source": [
    "end_date"
   ]
  },
  {
   "cell_type": "code",
   "execution_count": 27,
   "metadata": {},
   "outputs": [],
   "source": [
    "# For example we need some time delta of 2 days \n",
    "start_date = end_date - datetime.timedelta(days=16*365)"
   ]
  },
  {
   "cell_type": "code",
   "execution_count": 28,
   "metadata": {},
   "outputs": [
    {
     "data": {
      "text/plain": [
       "(datetime.datetime(2002, 5, 24, 23, 5, 51, 717361),\n",
       " datetime.datetime(2018, 5, 20, 23, 5, 51, 717361))"
      ]
     },
     "execution_count": 28,
     "metadata": {},
     "output_type": "execute_result"
    }
   ],
   "source": [
    "start_date, end_date"
   ]
  },
  {
   "cell_type": "code",
   "execution_count": 33,
   "metadata": {},
   "outputs": [],
   "source": [
    "# Date format in csv \"16/12/2004 11:26\" is in string format\n",
    "# we want to convert to python datetime object\n",
    "\n",
    "example_datetime = datetime.datetime.strptime(\n",
    "    '31/12/2004 11:26', '%d/%m/%Y %H:%M')\n"
   ]
  },
  {
   "cell_type": "code",
   "execution_count": 34,
   "metadata": {},
   "outputs": [
    {
     "data": {
      "text/plain": [
       "datetime.datetime(2004, 12, 31, 11, 26)"
      ]
     },
     "execution_count": 34,
     "metadata": {},
     "output_type": "execute_result"
    }
   ],
   "source": [
    "example_datetime"
   ]
  },
  {
   "cell_type": "code",
   "execution_count": 35,
   "metadata": {},
   "outputs": [
    {
     "name": "stdout",
     "output_type": "stream",
     "text": [
      "2004-12-31 11:26:00 is in between 2002-05-24 23:05:51.717361 and 2018-05-20 23:05:51.717361\n"
     ]
    }
   ],
   "source": [
    "if start_date < example_datetime < end_date:\n",
    "    print(f'{example_datetime} is in between {start_date} and {end_date}')"
   ]
  },
  {
   "cell_type": "code",
   "execution_count": 36,
   "metadata": {},
   "outputs": [],
   "source": [
    "example2_datetime = datetime.datetime.strptime(\n",
    "    '16/12/2019 11:26', '%d/%m/%Y %H:%M')"
   ]
  },
  {
   "cell_type": "code",
   "execution_count": 37,
   "metadata": {},
   "outputs": [
    {
     "name": "stdout",
     "output_type": "stream",
     "text": [
      "2004-12-31 11:26:00 is not in between 2002-05-24 23:05:51.717361 and 2018-05-20 23:05:51.717361\n"
     ]
    }
   ],
   "source": [
    "if start_date < example2_datetime < end_date:\n",
    "    print(f'{example_datetime} is in between {start_date} and {end_date}')\n",
    "else:\n",
    "    print(f'{example_datetime} is not in between {start_date} and {end_date}')"
   ]
  },
  {
   "cell_type": "code",
   "execution_count": 40,
   "metadata": {},
   "outputs": [
    {
     "name": "stdout",
     "output_type": "stream",
     "text": [
      "Total count: 999\n",
      "Range count: 4\n"
     ]
    }
   ],
   "source": [
    "import csv\n",
    "import datetime\n",
    "\n",
    "PAST_DAYS = 7\n",
    "\n",
    "fieldnames = ['User', 'Name', 'Date', 'changes']\n",
    "# end_date = datetime.datetime.now()\n",
    "end_date = datetime.datetime(2005, 4, 20)\n",
    "start_date = end_date - datetime.timedelta(days=PAST_DAYS)\n",
    "total_count = 0\n",
    "range_records_count = 0\n",
    "with open('output.csv', 'w') as output_file:\n",
    "    output_file_csv = csv.DictWriter(output_file, fieldnames=fieldnames)\n",
    "    output_file_csv.writeheader()\n",
    "    with open('smallwikipedia.csv', 'r') as smallwikipedia:\n",
    "        csv_object = csv.DictReader(smallwikipedia, delimiter=';')\n",
    "        for each in csv_object:\n",
    "            try:\n",
    "#                 print(each)\n",
    "#                 print(each.get('Date'))\n",
    "                total_count += 1\n",
    "                date_obj = datetime.datetime.strptime(\n",
    "                    each.get('Date'), '%d/%m/%Y %H:%M')\n",
    "                if start_date < date_obj < end_date:\n",
    "                    range_records_count += 1\n",
    "                    output_file_csv.writerow(each)\n",
    "            except Exception:\n",
    "                continue\n",
    "print(f'Total count: {total_count}')\n",
    "print(f'Range count: {range_records_count}')\n",
    "        "
   ]
  },
  {
   "cell_type": "code",
   "execution_count": 3,
   "metadata": {},
   "outputs": [
    {
     "data": {
      "text/plain": [
       "'a'"
      ]
     },
     "execution_count": 3,
     "metadata": {},
     "output_type": "execute_result"
    }
   ],
   "source": [
    "'a'"
   ]
  },
  {
   "cell_type": "code",
   "execution_count": 8,
   "metadata": {},
   "outputs": [
    {
     "data": {
      "text/plain": [
       "97"
      ]
     },
     "execution_count": 8,
     "metadata": {},
     "output_type": "execute_result"
    }
   ],
   "source": [
    "ord('a')"
   ]
  },
  {
   "cell_type": "code",
   "execution_count": 5,
   "metadata": {},
   "outputs": [
    {
     "data": {
      "text/plain": [
       "98"
      ]
     },
     "execution_count": 5,
     "metadata": {},
     "output_type": "execute_result"
    }
   ],
   "source": [
    "ord('b')"
   ]
  },
  {
   "cell_type": "code",
   "execution_count": 9,
   "metadata": {},
   "outputs": [
    {
     "data": {
      "text/plain": [
       "122"
      ]
     },
     "execution_count": 9,
     "metadata": {},
     "output_type": "execute_result"
    }
   ],
   "source": [
    "ord('z')"
   ]
  },
  {
   "cell_type": "code",
   "execution_count": 10,
   "metadata": {},
   "outputs": [
    {
     "data": {
      "text/plain": [
       "(65, 90, 48, 57)"
      ]
     },
     "execution_count": 10,
     "metadata": {},
     "output_type": "execute_result"
    }
   ],
   "source": [
    "ord('A'), ord('Z'), ord('0'), ord('9')"
   ]
  },
  {
   "cell_type": "code",
   "execution_count": 11,
   "metadata": {},
   "outputs": [
    {
     "data": {
      "text/plain": [
       "'A'"
      ]
     },
     "execution_count": 11,
     "metadata": {},
     "output_type": "execute_result"
    }
   ],
   "source": [
    "chr(65)"
   ]
  },
  {
   "cell_type": "code",
   "execution_count": 13,
   "metadata": {},
   "outputs": [
    {
     "data": {
      "text/plain": [
       "'o'"
      ]
     },
     "execution_count": 13,
     "metadata": {},
     "output_type": "execute_result"
    }
   ],
   "source": [
    "chr(111)"
   ]
  },
  {
   "cell_type": "code",
   "execution_count": 14,
   "metadata": {},
   "outputs": [
    {
     "name": "stdout",
     "output_type": "stream",
     "text": [
      "0 hai\n",
      "1 hello\n",
      "2 srinu\n"
     ]
    }
   ],
   "source": [
    "for idx, val in enumerate(['hai', 'hello', 'srinu']):\n",
    "    print(idx, val)"
   ]
  },
  {
   "cell_type": "code",
   "execution_count": null,
   "metadata": {},
   "outputs": [],
   "source": []
  }
 ],
 "metadata": {
  "kernelspec": {
   "display_name": "Python 3",
   "language": "python",
   "name": "python3"
  },
  "language_info": {
   "codemirror_mode": {
    "name": "ipython",
    "version": 3
   },
   "file_extension": ".py",
   "mimetype": "text/x-python",
   "name": "python",
   "nbconvert_exporter": "python",
   "pygments_lexer": "ipython3",
   "version": "3.6.3"
  }
 },
 "nbformat": 4,
 "nbformat_minor": 2
}
