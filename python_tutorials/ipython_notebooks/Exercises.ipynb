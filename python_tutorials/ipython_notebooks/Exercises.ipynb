{
 "cells": [
  {
   "cell_type": "markdown",
   "metadata": {
    "collapsed": true
   },
   "source": [
    "### Write a program to take integer as input which is between 1..9 and print in the following format which is given for a number:\n",
    "\n",
    "if n is 4\n",
    "```\n",
    "    1\n",
    "   12\n",
    "  123\n",
    " 1234```"
   ]
  },
  {
   "cell_type": "code",
   "execution_count": null,
   "metadata": {},
   "outputs": [],
   "source": [
    "def num_pyramid(n):\n",
    "    for r in range(1,n+1):\n",
    "        for s in range(n+1-r,0,-1):\n",
    "            print(\" \", end='', flush=True)\n",
    "        for c in range(1,r+1):\n",
    "            print(c, end='', flush=True)\n",
    "        print()\n",
    "a=input('Enter integer between 0-9: ')\n",
    "try:\n",
    "    a = int(a)\n",
    "    if a < 0 or a > 9:\n",
    "        print('Enter value between 0-9. Re-run')\n",
    "    else:\n",
    "        num_pyramid(a)\n",
    "except ValueError:\n",
    "    print('Pass an integer. Re-run')"
   ]
  },
  {
   "cell_type": "markdown",
   "metadata": {},
   "source": [
    "### Write a program to print n elements of a fibonacci series."
   ]
  },
  {
   "cell_type": "code",
   "execution_count": null,
   "metadata": {
    "collapsed": true
   },
   "outputs": [],
   "source": [
    "def fibonacci():\n",
    "    first = 0\n",
    "    second = 1\n",
    "    count = 0\n",
    "    try:\n",
    "        max_count = input(\"Enter the number of elements in a fibonacci series\")\n",
    "        max_count = int(max_count)-1\n",
    "        print(str(first)+\" \"+str(second),end=' ')\n",
    "        while(count<=max_count-2):\n",
    "            num = first + second\n",
    "            print(num, end=' ')\n",
    "            first = second\n",
    "            second = num\n",
    "            count += 1\n",
    "    except Exception:\n",
    "        print('Pass an integer as input. Re-run')\n",
    "\n",
    "fibonacci()"
   ]
  },
  {
   "cell_type": "markdown",
   "metadata": {},
   "source": [
    "### Write to code to accept an integer and find if the number is even or odd"
   ]
  },
  {
   "cell_type": "code",
   "execution_count": null,
   "metadata": {},
   "outputs": [],
   "source": [
    "try:\n",
    "    a = int(input('Enter a number: '))\n",
    "    if not (a & 1):\n",
    "        print('Number is even')\n",
    "    else:\n",
    "        print('Number is odd')\n",
    "except ValueError:\n",
    "    print('Enter only integers. Re-run')\n"
   ]
  },
  {
   "cell_type": "code",
   "execution_count": null,
   "metadata": {
    "collapsed": true
   },
   "outputs": [],
   "source": [
    "a = []"
   ]
  },
  {
   "cell_type": "code",
   "execution_count": null,
   "metadata": {
    "collapsed": true
   },
   "outputs": [],
   "source": [
    "a.append(1)"
   ]
  },
  {
   "cell_type": "code",
   "execution_count": null,
   "metadata": {
    "collapsed": true
   },
   "outputs": [],
   "source": [
    "a.append(2)"
   ]
  },
  {
   "cell_type": "code",
   "execution_count": null,
   "metadata": {
    "collapsed": true
   },
   "outputs": [],
   "source": [
    "a.append(3)"
   ]
  },
  {
   "cell_type": "code",
   "execution_count": null,
   "metadata": {},
   "outputs": [],
   "source": [
    "a[-1]"
   ]
  },
  {
   "cell_type": "code",
   "execution_count": null,
   "metadata": {},
   "outputs": [],
   "source": [
    "a.pop(0)"
   ]
  },
  {
   "cell_type": "code",
   "execution_count": null,
   "metadata": {},
   "outputs": [],
   "source": [
    "a.pop(0)"
   ]
  },
  {
   "cell_type": "code",
   "execution_count": null,
   "metadata": {},
   "outputs": [],
   "source": [
    "a.pop(0)"
   ]
  },
  {
   "cell_type": "code",
   "execution_count": null,
   "metadata": {
    "collapsed": true
   },
   "outputs": [],
   "source": []
  }
 ],
 "metadata": {
  "kernelspec": {
   "display_name": "Python 3",
   "language": "python",
   "name": "python3"
  },
  "language_info": {
   "codemirror_mode": {
    "name": "ipython",
    "version": 3
   },
   "file_extension": ".py",
   "mimetype": "text/x-python",
   "name": "python",
   "nbconvert_exporter": "python",
   "pygments_lexer": "ipython3",
   "version": "3.6.3"
  }
 },
 "nbformat": 4,
 "nbformat_minor": 2
}
