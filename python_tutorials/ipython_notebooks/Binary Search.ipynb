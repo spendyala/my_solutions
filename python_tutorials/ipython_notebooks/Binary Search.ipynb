{
 "cells": [
  {
   "cell_type": "code",
   "execution_count": 21,
   "metadata": {},
   "outputs": [
    {
     "name": "stdout",
     "output_type": "stream",
     "text": [
      "12\n",
      "6\n"
     ]
    }
   ],
   "source": [
    "def min_binary_search(input_array, start, end):\n",
    "    mid = int((start + end)/2)\n",
    "    if (start == end) or (start+1 == end):\n",
    "        val = start if input_array[start] <= input_array[end] else end\n",
    "        print(val)\n",
    "        if val > int(len(input_array)/2):\n",
    "            return len(input_array) - start - 1\n",
    "        else:\n",
    "            return val\n",
    "    if input_array[end] < input_array[mid]:\n",
    "        return min_binary_search(input_array, mid, end)\n",
    "    else:\n",
    "        return min_binary_search(input_array, start, mid)\n",
    "    \n",
    "               # 0  1  2  3  4   5   6   7   8   9   10  11 12 13 14 15 16 17\n",
    "find_in_array = [6, 7, 8, 9, 10, 11, 12, 13, 14, 15, 16, 17, 0, 1, 2, 3, 4, 5]\n",
    "start = 0\n",
    "end = len(find_in_array)-1\n",
    "    \n",
    "print(min_binary_search(find_in_array, start, end))"
   ]
  },
  {
   "cell_type": "code",
   "execution_count": 2,
   "metadata": {},
   "outputs": [
    {
     "data": {
      "text/plain": [
       "5"
      ]
     },
     "execution_count": 2,
     "metadata": {},
     "output_type": "execute_result"
    }
   ],
   "source": [
    "int((5 +6)/2)"
   ]
  },
  {
   "cell_type": "code",
   "execution_count": null,
   "metadata": {
    "collapsed": true
   },
   "outputs": [],
   "source": []
  }
 ],
 "metadata": {
  "kernelspec": {
   "display_name": "Python 3",
   "language": "python",
   "name": "python3"
  },
  "language_info": {
   "codemirror_mode": {
    "name": "ipython",
    "version": 3
   },
   "file_extension": ".py",
   "mimetype": "text/x-python",
   "name": "python",
   "nbconvert_exporter": "python",
   "pygments_lexer": "ipython3",
   "version": "3.6.3"
  }
 },
 "nbformat": 4,
 "nbformat_minor": 2
}
