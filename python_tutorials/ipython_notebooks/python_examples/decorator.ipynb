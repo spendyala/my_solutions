{
 "cells": [
  {
   "cell_type": "markdown",
   "metadata": {},
   "source": [
    "# **Decorator**"
   ]
  },
  {
   "cell_type": "code",
   "execution_count": 1,
   "metadata": {
    "collapsed": false
   },
   "outputs": [],
   "source": [
    "\n",
    "def bar(foo):\n",
    "    pass\n",
    "\n",
    "\n",
    "# These two are same\n",
    "@bar\n",
    "def foo():\n",
    "    pass"
   ]
  },
  {
   "cell_type": "code",
   "execution_count": 2,
   "metadata": {
    "collapsed": true
   },
   "outputs": [],
   "source": [
    "foo = bar(foo)"
   ]
  },
  {
   "cell_type": "code",
   "execution_count": 3,
   "metadata": {
    "collapsed": true
   },
   "outputs": [],
   "source": [
    "def my_decorator(func_obj):\n",
    "    return func_obj"
   ]
  },
  {
   "cell_type": "code",
   "execution_count": 4,
   "metadata": {
    "collapsed": false
   },
   "outputs": [],
   "source": [
    "def my_func():\n",
    "    print(\"Hello world!\")"
   ]
  },
  {
   "cell_type": "code",
   "execution_count": 5,
   "metadata": {
    "collapsed": false
   },
   "outputs": [],
   "source": [
    "my_func = my_decorator(my_func)"
   ]
  },
  {
   "cell_type": "code",
   "execution_count": 6,
   "metadata": {
    "collapsed": false
   },
   "outputs": [
    {
     "name": "stdout",
     "output_type": "stream",
     "text": [
      "Hello world!\n"
     ]
    }
   ],
   "source": [
    "my_func()"
   ]
  },
  {
   "cell_type": "code",
   "execution_count": 8,
   "metadata": {
    "collapsed": true
   },
   "outputs": [],
   "source": [
    "@my_decorator\n",
    "def my_func():\n",
    "    print(\"Hello world!\")"
   ]
  },
  {
   "cell_type": "code",
   "execution_count": 9,
   "metadata": {
    "collapsed": false
   },
   "outputs": [
    {
     "name": "stdout",
     "output_type": "stream",
     "text": [
      "Hello world!\n"
     ]
    }
   ],
   "source": [
    "my_func()"
   ]
  },
  {
   "cell_type": "markdown",
   "metadata": {},
   "source": [
    "## **NOT getting desired output!**"
   ]
  },
  {
   "cell_type": "code",
   "execution_count": 10,
   "metadata": {
    "collapsed": false
   },
   "outputs": [
    {
     "name": "stdout",
     "output_type": "stream",
     "text": [
      "This is decorator\n"
     ]
    }
   ],
   "source": [
    "def my_decorator(func_obj):\n",
    "    print('This is decorator')\n",
    "    return func_obj\n",
    "@my_decorator\n",
    "def my_func():\n",
    "    print('Hello world!')"
   ]
  },
  {
   "cell_type": "code",
   "execution_count": 11,
   "metadata": {
    "collapsed": false
   },
   "outputs": [
    {
     "name": "stdout",
     "output_type": "stream",
     "text": [
      "Hello world!\n"
     ]
    }
   ],
   "source": [
    "my_func()"
   ]
  },
  {
   "cell_type": "code",
   "execution_count": 12,
   "metadata": {
    "collapsed": false
   },
   "outputs": [
    {
     "data": {
      "text/plain": [
       "<function __main__.my_func>"
      ]
     },
     "execution_count": 12,
     "metadata": {},
     "output_type": "execute_result"
    }
   ],
   "source": [
    "my_func"
   ]
  },
  {
   "cell_type": "code",
   "execution_count": 26,
   "metadata": {
    "collapsed": false
   },
   "outputs": [],
   "source": [
    "import time\n",
    "def my_decorator(func_obj):\n",
    "    def wrapped(*args, **kwargs):\n",
    "        '''Wrapper'''\n",
    "        start_time = time.time()\n",
    "        print('Start time: %d' % start_time)\n",
    "        return_obj = func_obj(*args, **kwargs)\n",
    "        end_time = time.time()\n",
    "        print('End time: %d' % end_time)\n",
    "        print('Time taken: %d' % (end_time-start_time))\n",
    "        return return_obj\n",
    "    return wrapped\n",
    "@my_decorator\n",
    "def my_func(name):\n",
    "    '''Hello'''\n",
    "    print('Hello world! %s' % name)\n",
    "    return 'Done'"
   ]
  },
  {
   "cell_type": "code",
   "execution_count": 27,
   "metadata": {
    "collapsed": false
   },
   "outputs": [
    {
     "name": "stdout",
     "output_type": "stream",
     "text": [
      "Start time: 1488250525\n",
      "Hello world! Subbu\n",
      "End time: 1488250525\n",
      "Time taken: 0\n"
     ]
    },
    {
     "data": {
      "text/plain": [
       "'Done'"
      ]
     },
     "execution_count": 27,
     "metadata": {},
     "output_type": "execute_result"
    }
   ],
   "source": [
    "my_func('Subbu')"
   ]
  },
  {
   "cell_type": "markdown",
   "metadata": {},
   "source": [
    "## **Doc String**"
   ]
  },
  {
   "cell_type": "code",
   "execution_count": 28,
   "metadata": {
    "collapsed": false
   },
   "outputs": [],
   "source": [
    ">>> def foo():\n",
    "...     ''' This is foo '''\n",
    "...     pass"
   ]
  },
  {
   "cell_type": "code",
   "execution_count": 29,
   "metadata": {
    "collapsed": false
   },
   "outputs": [
    {
     "data": {
      "text/plain": [
       "' This is foo '"
      ]
     },
     "execution_count": 29,
     "metadata": {},
     "output_type": "execute_result"
    }
   ],
   "source": [
    "foo.__doc__"
   ]
  },
  {
   "cell_type": "code",
   "execution_count": 30,
   "metadata": {
    "collapsed": false
   },
   "outputs": [
    {
     "data": {
      "text/plain": [
       "'foo'"
      ]
     },
     "execution_count": 30,
     "metadata": {},
     "output_type": "execute_result"
    }
   ],
   "source": [
    "foo.__name__"
   ]
  },
  {
   "cell_type": "markdown",
   "metadata": {},
   "source": [
    "### **Let's check them for decorated methods**"
   ]
  },
  {
   "cell_type": "code",
   "execution_count": 31,
   "metadata": {
    "collapsed": false
   },
   "outputs": [
    {
     "data": {
      "text/plain": [
       "'Wrapper'"
      ]
     },
     "execution_count": 31,
     "metadata": {},
     "output_type": "execute_result"
    }
   ],
   "source": [
    "my_func.__doc__"
   ]
  },
  {
   "cell_type": "code",
   "execution_count": 32,
   "metadata": {
    "collapsed": false
   },
   "outputs": [
    {
     "data": {
      "text/plain": [
       "'wrapped'"
      ]
     },
     "execution_count": 32,
     "metadata": {},
     "output_type": "execute_result"
    }
   ],
   "source": [
    "my_func.__name__"
   ]
  },
  {
   "cell_type": "markdown",
   "metadata": {},
   "source": [
    "### **Important metadata such as the name, doc string, annotations, and calling signature are preserved by using functools.**"
   ]
  },
  {
   "cell_type": "code",
   "execution_count": null,
   "metadata": {
    "collapsed": true
   },
   "outputs": [],
   "source": [
    ">>> import time\n",
    ">>> from functools import wraps\n",
    ">>> def my_decorator(func_obj):\n",
    "...     ''' My Decorator '''\n",
    "...     @wraps(func_obj)\n",
    "...     def wrapped(*args, **kwargs):\n",
    "...         print('Start time: %d' % time.time())\n",
    "...         return_obj = func_obj(*args, **kwargs)\n",
    "...         print('End time: %d' % time.time())\n",
    "...         return return_obj\n",
    "...     return wrapped\n",
    ">>> @my_decorator\n",
    "... def my_func(name):\n",
    "...     ''' My Function '''\n",
    "...     print(\"Hello world! %s\" % name)\n",
    "...     return 'Done'"
   ]
  },
  {
   "cell_type": "code",
   "execution_count": null,
   "metadata": {
    "collapsed": false
   },
   "outputs": [],
   "source": [
    "my_func.__doc__"
   ]
  },
  {
   "cell_type": "code",
   "execution_count": null,
   "metadata": {
    "collapsed": false
   },
   "outputs": [],
   "source": [
    "my_func.__name__"
   ]
  },
  {
   "cell_type": "markdown",
   "metadata": {},
   "source": [
    "## **Class decorator**"
   ]
  },
  {
   "cell_type": "code",
   "execution_count": null,
   "metadata": {
    "collapsed": true
   },
   "outputs": [],
   "source": [
    ">>> import time\n",
    ">>> class ClassDecorator(object):\n",
    "...     def __init__(self, func):\n",
    "...         self.func = func\n",
    "...     def __call__(self, *args, **kwargs):\n",
    "...         print('Start: %s' % time.time())\n",
    "...         ret_obj = self.func.__call__(self.obj, *args, **kwargs)\n",
    "...         print('End: %s' % time.time())\n",
    "...         return ret_obj\n",
    "...     def __get__(self, instance, owner):\n",
    "...         self.cls = owner\n",
    "...         self.obj = instance\n",
    "...         return self.__call__\n",
    "\n",
    ">>> class Test(object):\n",
    "...     def __init__(self):\n",
    "...         self.name = 'Subbu'\n",
    "...     @ClassDecorator\n",
    "...     def test_method(self):\n",
    "...         ''' Test method '''\n",
    "...         print('Test method')\n",
    "...         return self.name"
   ]
  },
  {
   "cell_type": "code",
   "execution_count": null,
   "metadata": {
    "collapsed": true
   },
   "outputs": [],
   "source": [
    "test_obj = Test()"
   ]
  },
  {
   "cell_type": "code",
   "execution_count": null,
   "metadata": {
    "collapsed": false
   },
   "outputs": [],
   "source": [
    "print('Hello %s' % test_obj.test_method())"
   ]
  },
  {
   "cell_type": "markdown",
   "metadata": {},
   "source": [
    "### **Memoizing with function Decorator**\n",
    "\n",
    "    Let us look at the classic factorial function"
   ]
  },
  {
   "cell_type": "code",
   "execution_count": 33,
   "metadata": {
    "collapsed": true
   },
   "outputs": [],
   "source": [
    ">>> def factorial(n):\n",
    "...     if n == 1:\n",
    "...         return 1\n",
    "...     else:\n",
    "...         return n * factorial(n-1)"
   ]
  },
  {
   "cell_type": "code",
   "execution_count": 34,
   "metadata": {
    "collapsed": false
   },
   "outputs": [
    {
     "data": {
      "text/plain": [
       "120"
      ]
     },
     "execution_count": 34,
     "metadata": {},
     "output_type": "execute_result"
    }
   ],
   "source": [
    "factorial(5)"
   ]
  },
  {
   "cell_type": "code",
   "execution_count": 35,
   "metadata": {
    "collapsed": true
   },
   "outputs": [],
   "source": [
    ">>> import pprint\n",
    ">>> def memoize(f):\n",
    "...     memo = {}\n",
    "...     def helper(x):\n",
    "...         if x not in memo:\n",
    "...             print('Finding the value for %d' % x)\n",
    "...             memo[x] = f(x)\n",
    "...         print('Value for %d is %d' % (x, memo[x]))\n",
    "...         pprint.pprint(memo)\n",
    "...         return memo[x]\n",
    "...     return helper"
   ]
  },
  {
   "cell_type": "code",
   "execution_count": 36,
   "metadata": {
    "collapsed": false
   },
   "outputs": [],
   "source": [
    ">>> @memoize\n",
    "... def factorial(n):\n",
    "...     if n == 1:\n",
    "...         return 1\n",
    "...     else:\n",
    "...         return n * factorial(n-1)"
   ]
  },
  {
   "cell_type": "code",
   "execution_count": 37,
   "metadata": {
    "collapsed": false
   },
   "outputs": [
    {
     "name": "stdout",
     "output_type": "stream",
     "text": [
      "Finding the value for 5\n",
      "Finding the value for 4\n",
      "Finding the value for 3\n",
      "Finding the value for 2\n",
      "Finding the value for 1\n",
      "Value for 1 is 1\n",
      "{1: 1}\n",
      "Value for 2 is 2\n",
      "{1: 1, 2: 2}\n",
      "Value for 3 is 6\n",
      "{1: 1, 2: 2, 3: 6}\n",
      "Value for 4 is 24\n",
      "{1: 1, 2: 2, 3: 6, 4: 24}\n",
      "Value for 5 is 120\n",
      "{1: 1, 2: 2, 3: 6, 4: 24, 5: 120}\n"
     ]
    },
    {
     "data": {
      "text/plain": [
       "120"
      ]
     },
     "execution_count": 37,
     "metadata": {},
     "output_type": "execute_result"
    }
   ],
   "source": [
    "factorial(5)"
   ]
  },
  {
   "cell_type": "code",
   "execution_count": 38,
   "metadata": {
    "collapsed": false
   },
   "outputs": [],
   "source": [
    ">>> @memoize\n",
    "... def fib(n):\n",
    "...     print('Computing the value %d' % n)\n",
    "...     if n == 0:\n",
    "...         return 0\n",
    "...     elif n == 1:\n",
    "...         return 1\n",
    "...     else:\n",
    "...         return fib(n-1) + fib(n-2)"
   ]
  },
  {
   "cell_type": "code",
   "execution_count": 39,
   "metadata": {
    "collapsed": false
   },
   "outputs": [
    {
     "name": "stdout",
     "output_type": "stream",
     "text": [
      "Finding the value for 10\n",
      "Computing the value 10\n",
      "Finding the value for 9\n",
      "Computing the value 9\n",
      "Finding the value for 8\n",
      "Computing the value 8\n",
      "Finding the value for 7\n",
      "Computing the value 7\n",
      "Finding the value for 6\n",
      "Computing the value 6\n",
      "Finding the value for 5\n",
      "Computing the value 5\n",
      "Finding the value for 4\n",
      "Computing the value 4\n",
      "Finding the value for 3\n",
      "Computing the value 3\n",
      "Finding the value for 2\n",
      "Computing the value 2\n",
      "Finding the value for 1\n",
      "Computing the value 1\n",
      "Value for 1 is 1\n",
      "{1: 1}\n",
      "Finding the value for 0\n",
      "Computing the value 0\n",
      "Value for 0 is 0\n",
      "{0: 0, 1: 1}\n",
      "Value for 2 is 1\n",
      "{0: 0, 1: 1, 2: 1}\n",
      "Value for 1 is 1\n",
      "{0: 0, 1: 1, 2: 1}\n",
      "Value for 3 is 2\n",
      "{0: 0, 1: 1, 2: 1, 3: 2}\n",
      "Value for 2 is 1\n",
      "{0: 0, 1: 1, 2: 1, 3: 2}\n",
      "Value for 4 is 3\n",
      "{0: 0, 1: 1, 2: 1, 3: 2, 4: 3}\n",
      "Value for 3 is 2\n",
      "{0: 0, 1: 1, 2: 1, 3: 2, 4: 3}\n",
      "Value for 5 is 5\n",
      "{0: 0, 1: 1, 2: 1, 3: 2, 4: 3, 5: 5}\n",
      "Value for 4 is 3\n",
      "{0: 0, 1: 1, 2: 1, 3: 2, 4: 3, 5: 5}\n",
      "Value for 6 is 8\n",
      "{0: 0, 1: 1, 2: 1, 3: 2, 4: 3, 5: 5, 6: 8}\n",
      "Value for 5 is 5\n",
      "{0: 0, 1: 1, 2: 1, 3: 2, 4: 3, 5: 5, 6: 8}\n",
      "Value for 7 is 13\n",
      "{0: 0, 1: 1, 2: 1, 3: 2, 4: 3, 5: 5, 6: 8, 7: 13}\n",
      "Value for 6 is 8\n",
      "{0: 0, 1: 1, 2: 1, 3: 2, 4: 3, 5: 5, 6: 8, 7: 13}\n",
      "Value for 8 is 21\n",
      "{0: 0, 1: 1, 2: 1, 3: 2, 4: 3, 5: 5, 6: 8, 7: 13, 8: 21}\n",
      "Value for 7 is 13\n",
      "{0: 0, 1: 1, 2: 1, 3: 2, 4: 3, 5: 5, 6: 8, 7: 13, 8: 21}\n",
      "Value for 9 is 34\n",
      "{0: 0, 1: 1, 2: 1, 3: 2, 4: 3, 5: 5, 6: 8, 7: 13, 8: 21, 9: 34}\n",
      "Value for 8 is 21\n",
      "{0: 0, 1: 1, 2: 1, 3: 2, 4: 3, 5: 5, 6: 8, 7: 13, 8: 21, 9: 34}\n",
      "Value for 10 is 55\n",
      "{0: 0, 1: 1, 2: 1, 3: 2, 4: 3, 5: 5, 6: 8, 7: 13, 8: 21, 9: 34, 10: 55}\n"
     ]
    },
    {
     "data": {
      "text/plain": [
       "55"
      ]
     },
     "execution_count": 39,
     "metadata": {},
     "output_type": "execute_result"
    }
   ],
   "source": [
    "fib(10)"
   ]
  },
  {
   "cell_type": "code",
   "execution_count": null,
   "metadata": {
    "collapsed": true
   },
   "outputs": [],
   "source": []
  },
  {
   "cell_type": "code",
   "execution_count": null,
   "metadata": {
    "collapsed": true
   },
   "outputs": [],
   "source": []
  }
 ],
 "metadata": {
  "anaconda-cloud": {},
  "kernelspec": {
   "display_name": "Python [Root]",
   "language": "python",
   "name": "Python [Root]"
  },
  "language_info": {
   "codemirror_mode": {
    "name": "ipython",
    "version": 3
   },
   "file_extension": ".py",
   "mimetype": "text/x-python",
   "name": "python",
   "nbconvert_exporter": "python",
   "pygments_lexer": "ipython3",
   "version": "3.5.2"
  }
 },
 "nbformat": 4,
 "nbformat_minor": 0
}
