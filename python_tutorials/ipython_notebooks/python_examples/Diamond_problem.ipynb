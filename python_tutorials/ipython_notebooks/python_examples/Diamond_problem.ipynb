{
 "cells": [
  {
   "cell_type": "markdown",
   "metadata": {},
   "source": [
    "# Diamond Problem"
   ]
  },
  {
   "cell_type": "markdown",
   "metadata": {},
   "source": [
    "The **Diamond Problem** (sometimes referred to as the **Deadly Diamond of Death**) is the generally used term for an ambiguity that arises when two classes **`B`** and **`C`** inherit from a superclass **`A`**, and another class **`D`** inherits from both **`B`** and **`C`**. If there is a method **`m`** in **`A`** that **`B`** or **`C`** (or even both of them) has overridden, and furthermore, if does not override this method, then the question is which version of the method does **`D`** inherit? It could be the one from **`A`**, **`B`** or **`C`**."
   ]
  },
  {
   "cell_type": "code",
   "execution_count": 16,
   "metadata": {
    "collapsed": true
   },
   "outputs": [],
   "source": [
    ">>> class A:\n",
    "...     def m(self):\n",
    "...         print(\"m of A called\")\n",
    "\n",
    ">>> class B(A):\n",
    "...     def m(self):\n",
    "...         print(\"m of B called\")\n",
    "\n",
    ">>> class C(A):\n",
    "...     def m(self):\n",
    "...         print(\"m of C called\")\n",
    "\n",
    ">>> class D(B,C):\n",
    "...     pass"
   ]
  },
  {
   "cell_type": "code",
   "execution_count": 17,
   "metadata": {
    "collapsed": false
   },
   "outputs": [],
   "source": [
    "x = D()"
   ]
  },
  {
   "cell_type": "code",
   "execution_count": 18,
   "metadata": {
    "collapsed": false
   },
   "outputs": [
    {
     "name": "stdout",
     "output_type": "stream",
     "text": [
      "m of B called\n"
     ]
    }
   ],
   "source": [
    "x.m()"
   ]
  },
  {
   "cell_type": "markdown",
   "metadata": {},
   "source": [
    "Transpose the order of the classes in the class header of **`D`**, **`class D(C,B):`**"
   ]
  },
  {
   "cell_type": "code",
   "execution_count": 7,
   "metadata": {
    "collapsed": true
   },
   "outputs": [],
   "source": [
    ">>> class A:\n",
    "...     def m(self):\n",
    "...         print(\"m of A called\")\n",
    "\n",
    ">>>\n",
    ">>> class B(A):\n",
    "...     def m(self):\n",
    "...         print(\"m of B called\")\n",
    "\n",
    ">>> class C(A):\n",
    "...     def m(self):\n",
    "...         print(\"m of C called\")\n",
    "\n",
    ">>> class D(C,B):\n",
    "...     pass"
   ]
  },
  {
   "cell_type": "code",
   "execution_count": 8,
   "metadata": {
    "collapsed": true
   },
   "outputs": [],
   "source": [
    "x = D()"
   ]
  },
  {
   "cell_type": "code",
   "execution_count": 9,
   "metadata": {
    "collapsed": false
   },
   "outputs": [
    {
     "name": "stdout",
     "output_type": "stream",
     "text": [
      "m of C called\n"
     ]
    }
   ],
   "source": [
    "x.m()"
   ]
  },
  {
   "cell_type": "markdown",
   "metadata": {},
   "source": [
    "#### Result using Python3.x"
   ]
  },
  {
   "cell_type": "code",
   "execution_count": 13,
   "metadata": {
    "collapsed": true
   },
   "outputs": [],
   "source": [
    ">>> class A:\n",
    "...     def m(self):\n",
    "...         print(\"m of A called\")\n",
    "\n",
    ">>> class B(A):\n",
    "...     pass\n",
    "\n",
    ">>>\n",
    "... class C(A):\n",
    "...     def m(self):\n",
    "...         print(\"m of C called\")\n",
    "\n",
    ">>> class D(B,C):\n",
    "...     pass"
   ]
  },
  {
   "cell_type": "code",
   "execution_count": 14,
   "metadata": {
    "collapsed": true
   },
   "outputs": [],
   "source": [
    "x = D()"
   ]
  },
  {
   "cell_type": "code",
   "execution_count": 15,
   "metadata": {
    "collapsed": false
   },
   "outputs": [
    {
     "name": "stdout",
     "output_type": "stream",
     "text": [
      "m of C called\n"
     ]
    }
   ],
   "source": [
    "x.m()"
   ]
  },
  {
   "cell_type": "markdown",
   "metadata": {},
   "source": [
    "#### Result in Python2.7 for the above code is \n",
    "\n",
    "   `m of A called`"
   ]
  },
  {
   "cell_type": "markdown",
   "metadata": {},
   "source": [
    "To have the same inheritance behavior in **Python2** as in **Python3**, every class has to inherit from the class **`object`**. Our **`class A`** doesn't inherit from object, so we get a so-called old-style class, if we call the script with python2. Multiple inheritance with old-style classes is governed by two rules: \n",
    "  - depth-first and then \n",
    "  - left-to-right. \n",
    "    \n",
    "If you change the header line of **`A`** into **`class A(object):`**, we will have the same behavior in both Python versions.\n",
    "\n",
    "### ** In Python2.7**\n",
    "\n",
    "```\n",
    "class A(object):\n",
    "    def m(self):\n",
    "        print(\"m of A called\")\n",
    "\n",
    "class B(A):\n",
    "    pass\n",
    "\n",
    "class C(A):\n",
    "    def m(self):\n",
    "        print(\"m of C called\")\n",
    "\n",
    "class D(B,C):\n",
    "    pass\n",
    "\n",
    "x = D()\n",
    "x.m()\n",
    "m of C called\n",
    "```"
   ]
  },
  {
   "cell_type": "code",
   "execution_count": null,
   "metadata": {
    "collapsed": true
   },
   "outputs": [],
   "source": [
    ">>> class A(object):\n",
    "...     def m(self):\n",
    "...         print(\"m of A called\")\n",
    "\n",
    ">>> class B(A):\n",
    "...     pass\n",
    "\n",
    ">>>\n",
    "... class C(A):\n",
    "...     def m(self):\n",
    "...         print(\"m of C called\")\n",
    "\n",
    ">>> class D(B,C):\n",
    "...     pass"
   ]
  },
  {
   "cell_type": "code",
   "execution_count": null,
   "metadata": {
    "collapsed": true
   },
   "outputs": [],
   "source": [
    "x = D()"
   ]
  },
  {
   "cell_type": "code",
   "execution_count": null,
   "metadata": {
    "collapsed": false
   },
   "outputs": [],
   "source": [
    "x.m()"
   ]
  }
 ],
 "metadata": {
  "anaconda-cloud": {},
  "kernelspec": {
   "display_name": "Python [Root]",
   "language": "python",
   "name": "Python [Root]"
  },
  "language_info": {
   "codemirror_mode": {
    "name": "ipython",
    "version": 3
   },
   "file_extension": ".py",
   "mimetype": "text/x-python",
   "name": "python",
   "nbconvert_exporter": "python",
   "pygments_lexer": "ipython3",
   "version": "3.5.2"
  }
 },
 "nbformat": 4,
 "nbformat_minor": 0
}
