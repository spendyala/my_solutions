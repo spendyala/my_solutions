{
 "cells": [
  {
   "cell_type": "markdown",
   "metadata": {},
   "source": [
    "# Signal Handler"
   ]
  },
  {
   "cell_type": "code",
   "execution_count": 1,
   "metadata": {
    "collapsed": false
   },
   "outputs": [
    {
     "name": "stdout",
     "output_type": "stream",
     "text": [
      "Before: Sat Feb 18 12:54:05 2017\n",
      "Alarm : Sat Feb 18 12:54:07 2017\n",
      "After : Sat Feb 18 12:54:09 2017\n"
     ]
    }
   ],
   "source": [
    "import signal\n",
    "import time\n",
    "\n",
    "def receive_alarm(signum, stack):\n",
    "    print('Alarm :', time.ctime())\n",
    "\n",
    "# Call receive_alarm in 2 seconds\n",
    "signal.signal(signal.SIGALRM, receive_alarm)\n",
    "signal.alarm(2)\n",
    "\n",
    "print('Before:', time.ctime())\n",
    "time.sleep(4)\n",
    "print('After :', time.ctime())"
   ]
  },
  {
   "cell_type": "code",
   "execution_count": null,
   "metadata": {
    "collapsed": false
   },
   "outputs": [
    {
     "name": "stdout",
     "output_type": "stream",
     "text": [
      "My PID: 9907\n"
     ]
    }
   ],
   "source": [
    "import signal\n",
    "import os\n",
    "import time\n",
    "\n",
    "def do_exit(sig, stack):\n",
    "    raise SystemExit('Exiting')\n",
    "\n",
    "signal.signal(signal.SIGINT, signal.SIG_IGN)\n",
    "signal.signal(signal.SIGUSR1, do_exit)\n",
    "\n",
    "print('My PID:', os.getpid())\n",
    "\n",
    "signal.pause()"
   ]
  },
  {
   "cell_type": "code",
   "execution_count": null,
   "metadata": {
    "collapsed": false
   },
   "outputs": [],
   "source": [
    "import signal\n",
    "\n",
    "def alarm_received(n, stack):\n",
    "    return\n",
    "\n",
    "signal.signal(signal.SIGALRM, alarm_received)\n",
    "\n",
    "signals_to_names = {}\n",
    "for n in dir(signal):\n",
    "    if n.startswith('SIG') and not n.startswith('SIG_'):\n",
    "        signals_to_names[getattr(signal, n)] = n\n",
    "\n",
    "for s, name in sorted(signals_to_names.items()):\n",
    "    handler = signal.getsignal(s)\n",
    "    if handler is signal.SIG_DFL:\n",
    "        handler = 'SIG_DFL'\n",
    "    elif handler is signal.SIG_IGN:\n",
    "        handler = 'SIG_IGN'\n",
    "    if type(handler) != type(str()):\n",
    "       print(handler.__doc__)\n",
    "    print('%-10s (%2d):' % (name, s), handler)"
   ]
  },
  {
   "cell_type": "code",
   "execution_count": null,
   "metadata": {
    "collapsed": true
   },
   "outputs": [],
   "source": []
  },
  {
   "cell_type": "code",
   "execution_count": null,
   "metadata": {
    "collapsed": true
   },
   "outputs": [],
   "source": []
  }
 ],
 "metadata": {
  "anaconda-cloud": {},
  "kernelspec": {
   "display_name": "Python [Root]",
   "language": "python",
   "name": "Python [Root]"
  },
  "language_info": {
   "codemirror_mode": {
    "name": "ipython",
    "version": 3
   },
   "file_extension": ".py",
   "mimetype": "text/x-python",
   "name": "python",
   "nbconvert_exporter": "python",
   "pygments_lexer": "ipython3",
   "version": "3.5.2"
  }
 },
 "nbformat": 4,
 "nbformat_minor": 0
}
