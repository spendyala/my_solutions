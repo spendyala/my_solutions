{
 "cells": [
  {
   "cell_type": "markdown",
   "metadata": {},
   "source": [
    "| Description | URL  |\n",
    "|------|------|\n",
    "|   **`__map__`**| http://localhost:8889/notebooks/basics_map.ipynb|\n",
    "|   **`__filter__`**| http://localhost:8889/notebooks/basics_filter.ipynb|\n",
    "|   **`all`**| http://localhost:8889/notebooks/basics_all.ipynb|\n",
    "|   **`any`**| http://localhost:8889/notebooks/basics_any.ipynb|\n",
    "|   **`getattr`**| http://localhost:8889/notebooks/getattr.ipynb|\n",
    "|   **`hasattr`**| http://localhost:8889/notebooks/hasattr.ipynb|\n",
    "|   **`setattr`**| http://localhost:8889/notebooks/setattr.ipynb|\n",
    "|   **`callable`**| http://localhost:8889/notebooks/callable.ipynb|\n",
    "|   **`isinstance`**| http://localhost:8889/notebooks/isinstance.ipynb|\n",
    "|   **`issubclass`**| http://localhost:8889/notebooks/issubclass.ipynb|\n",
    "|   **`__closure__`**| http://localhost:8889/notebooks/closure.ipynb|\n",
    "|   **`@decorator`**| http://localhost:8889/notebooks/decorator.ipynb|\n",
    "|   **`Generators`** and **`Coroutines`** | http://localhost:8889/notebooks/generator_coroutine.ipynb|\n",
    "|   **`Class Properties`**| http://localhost:8889/notebooks/class_properties.ipynb|\n",
    "|   **`Class Attributes`**| http://localhost:8889/notebooks/class_attributes.ipynb|\n",
    "|   **`@classmethod`**| http://localhost:8889/notebooks/class_methods.ipynb|\n",
    "|   **`Inheritance`**| http://localhost:8889/notebooks/Inheritance.ipynb|\n",
    "|   **`Diamond Problem`**| http://localhost:8889/notebooks/Diamond_problem.ipynb|\n",
    "|   **`MRO`**| http://localhost:8889/notebooks/Method_Resolution_Order.ipynb|\n",
    "|   **`Polymorphism`**| http://localhost:8889/notebooks/polymorphism.ipynb|\n",
    "|   **`Slots`** & **`types`** &**`singleton`**| http://localhost:8889/notebooks/python_slots.ipynb|\n",
    "|   **`Common mistakes`**| http://localhost:8889/notebooks/common_mistakes.ipynb|\n",
    "|   **`Python 3.x`**| http://localhost:8889/notebooks/python_3x.ipynb|\n",
    "|   **`Namedtuple`**| http://localhost:8889/notebooks/NamedTuple_examples.ipynb|\n",
    "|   **`Signal Handler`**| http://localhost:8889/notebooks/signal_handlers.ipynb|"
   ]
  },
  {
   "cell_type": "code",
   "execution_count": null,
   "metadata": {
    "collapsed": true
   },
   "outputs": [],
   "source": []
  }
 ],
 "metadata": {
  "anaconda-cloud": {},
  "kernelspec": {
   "display_name": "Python 3",
   "language": "python",
   "name": "python3"
  },
  "language_info": {
   "codemirror_mode": {
    "name": "ipython",
    "version": 3
   },
   "file_extension": ".py",
   "mimetype": "text/x-python",
   "name": "python",
   "nbconvert_exporter": "python",
   "pygments_lexer": "ipython3",
   "version": "3.6.1"
  }
 },
 "nbformat": 4,
 "nbformat_minor": 1
}
