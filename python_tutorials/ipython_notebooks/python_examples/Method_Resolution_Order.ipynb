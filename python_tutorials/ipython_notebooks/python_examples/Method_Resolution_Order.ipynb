{
 "cells": [
  {
   "cell_type": "markdown",
   "metadata": {},
   "source": [
    "# Method Resolution Order"
   ]
  },
  {
   "cell_type": "markdown",
   "metadata": {},
   "source": [
    "To obtain an `MRO`, the interpreter method resolution algorithm carries out a left to right depth first listing of all classes in the hierarchy. \n",
    "\n",
    "In the trivial example above, this results in the following class list, `[D, B, A, object, C, A, object]` . Note that all objects will inherit from the root object class if no parent class is supplied during class definition. Finally, for each class that occurs multiple times, all occurrences are removed except the last occurrence resulting in an MRO of `[D, B, C, A, object]` for the previous class hierarchy. This result is the order in which classes would be searched for attributes for a given instance of `D`."
   ]
  },
  {
   "cell_type": "code",
   "execution_count": 1,
   "metadata": {
    "collapsed": true
   },
   "outputs": [],
   "source": [
    ">>> class A(object):\n",
    "...     def m(self):\n",
    "...         print(\"m of A called\")\n",
    ">>> class B(A):\n",
    "...     def m(self):\n",
    "...         print(\"m of B called\")\n",
    ">>> class C(A):\n",
    "...     def m(self):\n",
    "...         print(\"m of C called\")\n",
    ">>> class D(B,C):\n",
    "...     def m(self):\n",
    "...         print(\"m of D called\")"
   ]
  },
  {
   "cell_type": "markdown",
   "metadata": {},
   "source": [
    "Let's apply the method m on an instance of `D`. We can see that only the code of the method `m` of `D` will be executed. We can also explicitly call the methods m of the other classes via the class name."
   ]
  },
  {
   "cell_type": "code",
   "execution_count": 2,
   "metadata": {
    "collapsed": false
   },
   "outputs": [
    {
     "name": "stdout",
     "output_type": "stream",
     "text": [
      "m of D called\n",
      "m of B called\n",
      "m of C called\n",
      "m of A called\n"
     ]
    }
   ],
   "source": [
    "x = D()\n",
    "D.m(x)\n",
    "B.m(x)\n",
    "C.m(x)\n",
    "A.m(x)"
   ]
  },
  {
   "cell_type": "markdown",
   "metadata": {},
   "source": [
    "Now let's assume that the method m of `D` should execute the code of `m` of `B`, `C` and `A` as well, when it is called. We could implement it like this:"
   ]
  },
  {
   "cell_type": "code",
   "execution_count": 3,
   "metadata": {
    "collapsed": true
   },
   "outputs": [],
   "source": [
    ">>> class D(B,C):\n",
    "...     def m(self):\n",
    "...         print(\"m of D called\")\n",
    "...         B.m(self)\n",
    "...         C.m(self)\n",
    "...         A.m(self)"
   ]
  },
  {
   "cell_type": "code",
   "execution_count": 4,
   "metadata": {
    "collapsed": true
   },
   "outputs": [],
   "source": [
    "x = D()"
   ]
  },
  {
   "cell_type": "code",
   "execution_count": 5,
   "metadata": {
    "collapsed": false
   },
   "outputs": [
    {
     "name": "stdout",
     "output_type": "stream",
     "text": [
      "m of D called\n",
      "m of B called\n",
      "m of C called\n",
      "m of A called\n"
     ]
    }
   ],
   "source": [
    "x.m()"
   ]
  },
  {
   "cell_type": "markdown",
   "metadata": {},
   "source": [
    "### **Let's complicate**\n",
    "\n",
    "But it turns out once more that things are more complicated than it seems.\n",
    "\n",
    "How can we cope with the situation, if both `m` of `B` and `m` of `C` will have to call `m` of `A` as well?\n",
    "\n",
    "In this case, we have to take away the call `A.m(self)` from `m` in `D`.\n",
    "\n",
    "The code might look like this, but there is still a bug lurking in it."
   ]
  },
  {
   "cell_type": "code",
   "execution_count": 6,
   "metadata": {
    "collapsed": true
   },
   "outputs": [],
   "source": [
    ">>> class A:\n",
    "...     def m(self):\n",
    "...         print(\"m of A called\")\n",
    "\n",
    ">>> class B(A):\n",
    "...     def m(self):\n",
    "...         print(\"m of B called\")\n",
    "...         A.m(self)\n",
    "\n",
    ">>> class C(A):\n",
    "...     def m(self):\n",
    "...         print(\"m of C called\")\n",
    "...         A.m(self)\n",
    "\n",
    ">>> class D(B,C):\n",
    "...     def m(self):\n",
    "...         print(\"m of D called\")\n",
    "...         B.m(self)\n",
    "...         C.m(self)"
   ]
  },
  {
   "cell_type": "markdown",
   "metadata": {},
   "source": [
    "**Now the method `m` of `A` will be called twice**"
   ]
  },
  {
   "cell_type": "code",
   "execution_count": 9,
   "metadata": {
    "collapsed": true
   },
   "outputs": [],
   "source": [
    "x = D()"
   ]
  },
  {
   "cell_type": "code",
   "execution_count": 10,
   "metadata": {
    "collapsed": false
   },
   "outputs": [
    {
     "name": "stdout",
     "output_type": "stream",
     "text": [
      "m of D called\n",
      "m of B called\n",
      "m of A called\n",
      "m of C called\n",
      "m of A called\n"
     ]
    }
   ],
   "source": [
    "x.m()"
   ]
  },
  {
   "cell_type": "markdown",
   "metadata": {},
   "source": [
    "### **Non-Pythonic way of solution to fix this**\n",
    "\n",
    "\n",
    "One way to solve this problem \n",
    "\n",
    "By splitting the methods `m` of `B` and `C` in two methods.\n",
    "\n",
    "The first method, called `_m` consists of the specific code for `B` and `C` and the other method is still called `m`, but consists now of a call `self._m()` and a call `A.m(self)`.\n",
    "\n",
    "The code of the method `m` of `D` consists now of the specific code of `D` `print(\"m of D called\")`, and the calls `B._m(self)`, `C._m(self)` and `A.m(self)`.\n"
   ]
  },
  {
   "cell_type": "code",
   "execution_count": 11,
   "metadata": {
    "collapsed": true
   },
   "outputs": [],
   "source": [
    ">>> class A:\n",
    "...     def m(self):\n",
    "...         print(\"m of A called\")\n",
    "\n",
    ">>> class B(A):\n",
    "...     def _m(self):\n",
    "...         print(\"m of B called\")\n",
    "...     def m(self):\n",
    "...         self._m()\n",
    "...         A.m(self)\n",
    "\n",
    ">>> class C(A):\n",
    "...     def _m(self):\n",
    "...         print(\"m of C called\")\n",
    "...     def m(self):\n",
    "...         self._m()\n",
    "...         A.m(self)\n",
    "\n",
    ">>> class D(B,C):\n",
    "...     def m(self):\n",
    "...         print(\"m of D called\")\n",
    "...         B._m(self)\n",
    "...         C._m(self)\n",
    "...         A.m(self)"
   ]
  },
  {
   "cell_type": "code",
   "execution_count": 14,
   "metadata": {
    "collapsed": false
   },
   "outputs": [
    {
     "name": "stdout",
     "output_type": "stream",
     "text": [
      "m of D called\n",
      "m of B called\n",
      "m of C called\n",
      "m of A called\n"
     ]
    }
   ],
   "source": [
    "x = D(); x.m();"
   ]
  },
  {
   "cell_type": "markdown",
   "metadata": {},
   "source": [
    "### **Our problem is solved :), but still it is confusing.**\n",
    "\n",
    "The optimal way to solve the problem, which is the **`super`** pythonic way, consists in calling the super function"
   ]
  },
  {
   "cell_type": "code",
   "execution_count": 15,
   "metadata": {
    "collapsed": true
   },
   "outputs": [],
   "source": [
    ">>> class A(object):\n",
    "...     def m(self):\n",
    "...         print(\"m of A called\")\n",
    ">>> class B(A):\n",
    "...     def m(self):\n",
    "...         print(\"m of B called\")\n",
    "...         super().m()\n",
    ">>> class C(A):\n",
    "...     def m(self):\n",
    "...         print(\"m of C called\")\n",
    "...         super().m()\n",
    ">>> class D(B,C):\n",
    "...     def m(self):\n",
    "...         print(\"m of D called\")\n",
    "...         super().m()"
   ]
  },
  {
   "cell_type": "code",
   "execution_count": 16,
   "metadata": {
    "collapsed": true
   },
   "outputs": [],
   "source": [
    "x = D()"
   ]
  },
  {
   "cell_type": "code",
   "execution_count": 17,
   "metadata": {
    "collapsed": false
   },
   "outputs": [
    {
     "name": "stdout",
     "output_type": "stream",
     "text": [
      "m of D called\n",
      "m of B called\n",
      "m of C called\n",
      "m of A called\n"
     ]
    }
   ],
   "source": [
    "x.m()"
   ]
  },
  {
   "cell_type": "markdown",
   "metadata": {},
   "source": [
    "The **`super`** function is often used when instances are initialized with the **`__init__`** method."
   ]
  },
  {
   "cell_type": "code",
   "execution_count": 18,
   "metadata": {
    "collapsed": true
   },
   "outputs": [],
   "source": [
    ">>> class A(object):\n",
    "...     def __init__(self):\n",
    "...         print(\"A.__init__\")\n",
    "\n",
    ">>> class B(A):\n",
    "...     def __init__(self):\n",
    "...         print(\"B.__init__\")\n",
    "...         super().__init__()\n",
    "\n",
    ">>> class C(A):\n",
    "...     def __init__(self):\n",
    "...         print(\"C.__init__\")\n",
    "...         super().__init__()\n",
    "\n",
    ">>> class D(B,C):\n",
    "...     def __init__(self):\n",
    "...         print(\"D.__init__\")\n",
    "...         super().__init__()"
   ]
  },
  {
   "cell_type": "code",
   "execution_count": 19,
   "metadata": {
    "collapsed": false
   },
   "outputs": [
    {
     "name": "stdout",
     "output_type": "stream",
     "text": [
      "D.__init__\n",
      "B.__init__\n",
      "C.__init__\n",
      "A.__init__\n"
     ]
    }
   ],
   "source": [
    "x = D()"
   ]
  },
  {
   "cell_type": "code",
   "execution_count": 20,
   "metadata": {
    "collapsed": false
   },
   "outputs": [
    {
     "name": "stdout",
     "output_type": "stream",
     "text": [
      "D.__init__\n",
      "B.__init__\n",
      "C.__init__\n",
      "A.__init__\n"
     ]
    }
   ],
   "source": [
    "d = D()"
   ]
  },
  {
   "cell_type": "code",
   "execution_count": 21,
   "metadata": {
    "collapsed": false,
    "scrolled": true
   },
   "outputs": [
    {
     "name": "stdout",
     "output_type": "stream",
     "text": [
      "C.__init__\n",
      "A.__init__\n"
     ]
    }
   ],
   "source": [
    "c = C()"
   ]
  },
  {
   "cell_type": "code",
   "execution_count": 22,
   "metadata": {
    "collapsed": false
   },
   "outputs": [
    {
     "name": "stdout",
     "output_type": "stream",
     "text": [
      "B.__init__\n",
      "A.__init__\n"
     ]
    }
   ],
   "source": [
    "b = B()"
   ]
  },
  {
   "cell_type": "code",
   "execution_count": 23,
   "metadata": {
    "collapsed": false
   },
   "outputs": [
    {
     "name": "stdout",
     "output_type": "stream",
     "text": [
      "A.__init__\n"
     ]
    }
   ],
   "source": [
    "a = A()"
   ]
  },
  {
   "cell_type": "markdown",
   "metadata": {},
   "source": [
    "## **Important Note**\n",
    "\n",
    "### The question arises:\n",
    "- How the super functions makes its decision?\n",
    "- How does it decide which class has to be used? \n",
    "\n",
    "As we have already mentioned, it uses the so-called **`Method Resolution Order(MRO)`**. It is based on the **C3 superclass linearization** algorithm. This is called a **linearization**, because the tree structure is broken down into a linear order. The **MRO** method can be used to create this list."
   ]
  },
  {
   "cell_type": "code",
   "execution_count": 24,
   "metadata": {
    "collapsed": false
   },
   "outputs": [
    {
     "data": {
      "text/plain": [
       "[__main__.D, __main__.B, __main__.C, __main__.A, object]"
      ]
     },
     "execution_count": 24,
     "metadata": {},
     "output_type": "execute_result"
    }
   ],
   "source": [
    "D.mro()"
   ]
  },
  {
   "cell_type": "code",
   "execution_count": 25,
   "metadata": {
    "collapsed": false
   },
   "outputs": [
    {
     "data": {
      "text/plain": [
       "[__main__.C, __main__.A, object]"
      ]
     },
     "execution_count": 25,
     "metadata": {},
     "output_type": "execute_result"
    }
   ],
   "source": [
    "C.mro()"
   ]
  },
  {
   "cell_type": "code",
   "execution_count": 26,
   "metadata": {
    "collapsed": false
   },
   "outputs": [
    {
     "data": {
      "text/plain": [
       "[__main__.B, __main__.A, object]"
      ]
     },
     "execution_count": 26,
     "metadata": {},
     "output_type": "execute_result"
    }
   ],
   "source": [
    "B.mro()"
   ]
  },
  {
   "cell_type": "code",
   "execution_count": 27,
   "metadata": {
    "collapsed": false
   },
   "outputs": [
    {
     "data": {
      "text/plain": [
       "[__main__.A, object]"
      ]
     },
     "execution_count": 27,
     "metadata": {},
     "output_type": "execute_result"
    }
   ],
   "source": [
    "A.mro()"
   ]
  },
  {
   "cell_type": "code",
   "execution_count": null,
   "metadata": {
    "collapsed": true
   },
   "outputs": [],
   "source": []
  }
 ],
 "metadata": {
  "anaconda-cloud": {},
  "kernelspec": {
   "display_name": "Python [Root]",
   "language": "python",
   "name": "Python [Root]"
  },
  "language_info": {
   "codemirror_mode": {
    "name": "ipython",
    "version": 3
   },
   "file_extension": ".py",
   "mimetype": "text/x-python",
   "name": "python",
   "nbconvert_exporter": "python",
   "pygments_lexer": "ipython3",
   "version": "3.5.2"
  }
 },
 "nbformat": 4,
 "nbformat_minor": 0
}
